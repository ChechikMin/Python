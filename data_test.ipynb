{
 "cells": [
  {
   "cell_type": "code",
   "execution_count": 1,
   "outputs": [],
   "source": [
    "import pandas as pd\n",
    "from copy import deepcopy\n",
    "import numpy as np"
   ],
   "metadata": {
    "collapsed": false,
    "pycharm": {
     "name": "#%%\n"
    }
   }
  },
  {
   "cell_type": "code",
   "execution_count": 2,
   "outputs": [],
   "source": [
    "df = pd.read_csv('src/UCI_13_rub.csv')"
   ],
   "metadata": {
    "collapsed": false,
    "pycharm": {
     "name": "#%%\n"
    }
   }
  },
  {
   "cell_type": "code",
   "execution_count": 3,
   "outputs": [
    {
     "data": {
      "text/plain": "         Unnamed: 0     LIMIT_BAL           SEX     EDUCATION      MARRIAGE  \\\ncount  30000.000000  3.000000e+04  30000.000000  30000.000000  30000.000000   \nmean   14999.500000  5.024530e+06      1.603733      1.853133      1.551867   \nstd     8660.398374  3.892430e+06      0.489129      0.790349      0.521970   \nmin        0.000000  3.000000e+05      1.000000      0.000000      0.000000   \n25%     7499.750000  1.500000e+06      1.000000      1.000000      1.000000   \n50%    14999.500000  4.200000e+06      2.000000      2.000000      2.000000   \n75%    22499.250000  7.200000e+06      2.000000      2.000000      2.000000   \nmax    29999.000000  3.000000e+07      2.000000      6.000000      3.000000   \n\n                AGE      PAY_AMT1      PAY_AMT2      PAY_AMT3      PAY_AMT4  \\\ncount  30000.000000  3.000000e+04  3.000000e+04  3.000000e+04  3.000000e+04   \nmean      35.485500  1.699074e+05  1.776349e+05  1.567704e+05  1.447823e+05   \nstd        9.217904  4.968984e+05  6.912261e+05  5.282088e+05  4.699848e+05   \nmin       21.000000  0.000000e+00  0.000000e+00  0.000000e+00  0.000000e+00   \n25%       28.000000  3.000000e+04  2.499000e+04  1.170000e+04  8.880000e+03   \n50%       34.000000  6.300000e+04  6.027000e+04  5.400000e+04  4.500000e+04   \n75%       41.000000  1.501800e+05  1.500000e+05  1.351500e+05  1.203975e+05   \nmax       79.000000  2.620656e+07  5.052777e+07  2.688120e+07  1.863000e+07   \n\n           PAY_AMT5      PAY_AMT6  default.payment.next.month  \ncount  3.000000e+04  3.000000e+04                30000.000000  \nmean   1.439816e+05  1.564651e+05                    0.221200  \nstd    4.583492e+05  5.333240e+05                    0.415062  \nmin    0.000000e+00  0.000000e+00                    0.000000  \n25%    7.575000e+03  3.532500e+03                    0.000000  \n50%    4.500000e+04  4.500000e+04                    0.000000  \n75%    1.209450e+05  1.200000e+05                    0.000000  \nmax    1.279587e+07  1.585998e+07                    1.000000  ",
      "text/html": "<div>\n<style scoped>\n    .dataframe tbody tr th:only-of-type {\n        vertical-align: middle;\n    }\n\n    .dataframe tbody tr th {\n        vertical-align: top;\n    }\n\n    .dataframe thead th {\n        text-align: right;\n    }\n</style>\n<table border=\"1\" class=\"dataframe\">\n  <thead>\n    <tr style=\"text-align: right;\">\n      <th></th>\n      <th>Unnamed: 0</th>\n      <th>LIMIT_BAL</th>\n      <th>SEX</th>\n      <th>EDUCATION</th>\n      <th>MARRIAGE</th>\n      <th>AGE</th>\n      <th>PAY_AMT1</th>\n      <th>PAY_AMT2</th>\n      <th>PAY_AMT3</th>\n      <th>PAY_AMT4</th>\n      <th>PAY_AMT5</th>\n      <th>PAY_AMT6</th>\n      <th>default.payment.next.month</th>\n    </tr>\n  </thead>\n  <tbody>\n    <tr>\n      <th>count</th>\n      <td>30000.000000</td>\n      <td>3.000000e+04</td>\n      <td>30000.000000</td>\n      <td>30000.000000</td>\n      <td>30000.000000</td>\n      <td>30000.000000</td>\n      <td>3.000000e+04</td>\n      <td>3.000000e+04</td>\n      <td>3.000000e+04</td>\n      <td>3.000000e+04</td>\n      <td>3.000000e+04</td>\n      <td>3.000000e+04</td>\n      <td>30000.000000</td>\n    </tr>\n    <tr>\n      <th>mean</th>\n      <td>14999.500000</td>\n      <td>5.024530e+06</td>\n      <td>1.603733</td>\n      <td>1.853133</td>\n      <td>1.551867</td>\n      <td>35.485500</td>\n      <td>1.699074e+05</td>\n      <td>1.776349e+05</td>\n      <td>1.567704e+05</td>\n      <td>1.447823e+05</td>\n      <td>1.439816e+05</td>\n      <td>1.564651e+05</td>\n      <td>0.221200</td>\n    </tr>\n    <tr>\n      <th>std</th>\n      <td>8660.398374</td>\n      <td>3.892430e+06</td>\n      <td>0.489129</td>\n      <td>0.790349</td>\n      <td>0.521970</td>\n      <td>9.217904</td>\n      <td>4.968984e+05</td>\n      <td>6.912261e+05</td>\n      <td>5.282088e+05</td>\n      <td>4.699848e+05</td>\n      <td>4.583492e+05</td>\n      <td>5.333240e+05</td>\n      <td>0.415062</td>\n    </tr>\n    <tr>\n      <th>min</th>\n      <td>0.000000</td>\n      <td>3.000000e+05</td>\n      <td>1.000000</td>\n      <td>0.000000</td>\n      <td>0.000000</td>\n      <td>21.000000</td>\n      <td>0.000000e+00</td>\n      <td>0.000000e+00</td>\n      <td>0.000000e+00</td>\n      <td>0.000000e+00</td>\n      <td>0.000000e+00</td>\n      <td>0.000000e+00</td>\n      <td>0.000000</td>\n    </tr>\n    <tr>\n      <th>25%</th>\n      <td>7499.750000</td>\n      <td>1.500000e+06</td>\n      <td>1.000000</td>\n      <td>1.000000</td>\n      <td>1.000000</td>\n      <td>28.000000</td>\n      <td>3.000000e+04</td>\n      <td>2.499000e+04</td>\n      <td>1.170000e+04</td>\n      <td>8.880000e+03</td>\n      <td>7.575000e+03</td>\n      <td>3.532500e+03</td>\n      <td>0.000000</td>\n    </tr>\n    <tr>\n      <th>50%</th>\n      <td>14999.500000</td>\n      <td>4.200000e+06</td>\n      <td>2.000000</td>\n      <td>2.000000</td>\n      <td>2.000000</td>\n      <td>34.000000</td>\n      <td>6.300000e+04</td>\n      <td>6.027000e+04</td>\n      <td>5.400000e+04</td>\n      <td>4.500000e+04</td>\n      <td>4.500000e+04</td>\n      <td>4.500000e+04</td>\n      <td>0.000000</td>\n    </tr>\n    <tr>\n      <th>75%</th>\n      <td>22499.250000</td>\n      <td>7.200000e+06</td>\n      <td>2.000000</td>\n      <td>2.000000</td>\n      <td>2.000000</td>\n      <td>41.000000</td>\n      <td>1.501800e+05</td>\n      <td>1.500000e+05</td>\n      <td>1.351500e+05</td>\n      <td>1.203975e+05</td>\n      <td>1.209450e+05</td>\n      <td>1.200000e+05</td>\n      <td>0.000000</td>\n    </tr>\n    <tr>\n      <th>max</th>\n      <td>29999.000000</td>\n      <td>3.000000e+07</td>\n      <td>2.000000</td>\n      <td>6.000000</td>\n      <td>3.000000</td>\n      <td>79.000000</td>\n      <td>2.620656e+07</td>\n      <td>5.052777e+07</td>\n      <td>2.688120e+07</td>\n      <td>1.863000e+07</td>\n      <td>1.279587e+07</td>\n      <td>1.585998e+07</td>\n      <td>1.000000</td>\n    </tr>\n  </tbody>\n</table>\n</div>"
     },
     "execution_count": 3,
     "metadata": {},
     "output_type": "execute_result"
    }
   ],
   "source": [
    "df.describe()"
   ],
   "metadata": {
    "collapsed": false,
    "pycharm": {
     "name": "#%%\n"
    }
   }
  },
  {
   "cell_type": "code",
   "execution_count": 4,
   "outputs": [
    {
     "data": {
      "text/plain": "Unnamed: 0                    1.499950e+04\nLIMIT_BAL                     5.024530e+06\nSEX                           1.603733e+00\nEDUCATION                     1.853133e+00\nMARRIAGE                      1.551867e+00\nAGE                           3.548550e+01\nPAY_AMT1                      1.699074e+05\nPAY_AMT2                      1.776349e+05\nPAY_AMT3                      1.567704e+05\nPAY_AMT4                      1.447823e+05\nPAY_AMT5                      1.439816e+05\nPAY_AMT6                      1.564651e+05\ndefault.payment.next.month    2.212000e-01\ndtype: float64"
     },
     "execution_count": 4,
     "metadata": {},
     "output_type": "execute_result"
    }
   ],
   "source": [
    "df.mean()"
   ],
   "metadata": {
    "collapsed": false,
    "pycharm": {
     "name": "#%%\n"
    }
   }
  }
 ],
 "metadata": {
  "kernelspec": {
   "display_name": "Python 3",
   "language": "python",
   "name": "python3"
  },
  "language_info": {
   "codemirror_mode": {
    "name": "ipython",
    "version": 3
   },
   "file_extension": ".py",
   "mimetype": "text/x-python",
   "name": "python",
   "nbconvert_exporter": "python",
   "pygments_lexer": "ipython3",
   "version": "3.8.6"
  }
 },
 "nbformat": 4,
 "nbformat_minor": 5
}